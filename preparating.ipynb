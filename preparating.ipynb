{
 "cells": [
  {
   "cell_type": "code",
   "execution_count": 75,
   "id": "961c7fbc",
   "metadata": {},
   "outputs": [],
   "source": [
    "from os import listdir\n",
    "from os.path import isfile, join\n",
    "import pandas as pd  \n",
    "from datetime import datetime\n",
    "import os\n",
    "import sys"
   ]
  },
  {
   "cell_type": "code",
   "execution_count": 76,
   "id": "21821d3b",
   "metadata": {},
   "outputs": [],
   "source": [
    "# Global variables\n",
    "BASE_DIR = \"BASE\"\n",
    "INPUT_NAME = \"houses\"\n",
    "OUTPUT_NAME = \"prepared_data\""
   ]
  },
  {
   "cell_type": "code",
   "execution_count": 77,
   "id": "852f4928",
   "metadata": {},
   "outputs": [],
   "source": [
    "# Get today date\n",
    "todays_date = datetime.today()\n",
    "# Get the path to read input from\n",
    "path = (f\"{BASE_DIR}/{todays_date.year}/{todays_date.month}/{todays_date.day}/{INPUT_NAME}.csv\")\n",
    "# Check whether the specified file exists or not\n",
    "isExist = os.path.isfile(path)\n",
    "if not isExist:\n",
    "    sys.exit(\"The file/directory doesn't exist\")\n",
    "\n",
    "# Read DataFrame from path\n",
    "df = pd.read_csv(path, sep=';')"
   ]
  },
  {
   "cell_type": "code",
   "execution_count": 78,
   "id": "d0dded70",
   "metadata": {},
   "outputs": [],
   "source": [
    "# Scaling\n",
    "df = df.replace([\"ex\", \"gd\", \"ta\", \"fa\", \"po\"], [1.0,0.8,0.5,0.2,0.0])\n",
    "df = df.replace([\"y\", \"p\", \"n\"], [1.0,0.5,0.0])"
   ]
  },
  {
   "cell_type": "code",
   "execution_count": 79,
   "id": "16c77fa3",
   "metadata": {},
   "outputs": [],
   "source": [
    "# Decomposition\n",
    "df[\"DateSold\"] = pd.to_datetime(df[\"DateSold\"])\n",
    "df[\"MonthSold\"] = df[\"DateSold\"].dt.month\n",
    "df[\"YearSold\"] = df[\"DateSold\"].dt.year"
   ]
  },
  {
   "cell_type": "code",
   "execution_count": 80,
   "id": "714cf156",
   "metadata": {},
   "outputs": [],
   "source": [
    "# Aggregation\n",
    "df[\"TotalBsmtSF\"] = df[\"BsmtFinSF1\"] + df[\"BsmtFinSF2\"] + df[\"BsmtUnfSF\"]\n",
    "df[\"TotalLivingArea\"] = df[\"1stFlrSF\"] + df[\"2ndFlrSF\"] + df[\"LowQualFinSF\"]\n",
    "\n",
    "year_now = datetime.now().year\n",
    "df[\"HouseAge\"] = year_now - df[\"YearBuilt\"]"
   ]
  },
  {
   "cell_type": "code",
   "execution_count": 81,
   "id": "da6e2f86",
   "metadata": {},
   "outputs": [],
   "source": [
    "# Save prepared data to csv\n",
    "\n",
    "# Set the path to save\n",
    "path = f\"PREPARED/{year_now}\"\n",
    "# Check whether the specified path exists or not\n",
    "isExist = os.path.exists(path)\n",
    "if not isExist:\n",
    "   # Create a new directory because it does not exist\n",
    "   os.makedirs(path)\n",
    "\n",
    "# Save merged DataFrame to CSV with ; separator without index column\n",
    "df.to_csv(f\"{path}/{OUTPUT_NAME}_{year_now}.csv\", sep=';', index=False)"
   ]
  }
 ],
 "metadata": {
  "kernelspec": {
   "display_name": "Python 3 (ipykernel)",
   "language": "python",
   "name": "python3"
  },
  "language_info": {
   "codemirror_mode": {
    "name": "ipython",
    "version": 3
   },
   "file_extension": ".py",
   "mimetype": "text/x-python",
   "name": "python",
   "nbconvert_exporter": "python",
   "pygments_lexer": "ipython3",
   "version": "3.9.13"
  }
 },
 "nbformat": 4,
 "nbformat_minor": 5
}
