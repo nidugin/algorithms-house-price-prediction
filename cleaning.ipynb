{
 "cells": [
  {
   "cell_type": "code",
   "execution_count": 1,
   "id": "466d78c2",
   "metadata": {},
   "outputs": [],
   "source": [
    "import os\n",
    "import sys\n",
    "import pandas as pd \n",
    "from datetime import date\n",
    "import numpy as np\n",
    "import warnings\n",
    "warnings.filterwarnings('ignore')"
   ]
  },
  {
   "cell_type": "code",
   "execution_count": 2,
   "id": "5a15c09a",
   "metadata": {},
   "outputs": [],
   "source": [
    "# Global variables\n",
    "INPUT_NAME = \"houses\"\n",
    "OUTPUT_NAME = \"houses\""
   ]
  },
  {
   "cell_type": "code",
   "execution_count": 3,
   "id": "087affbb",
   "metadata": {},
   "outputs": [],
   "source": [
    "# Get today date\n",
    "todays_date = date.today()\n",
    "# Get the path to read input from\n",
    "path = (f\"RAW/{todays_date.year}/{todays_date.month}/{todays_date.day}/{INPUT_NAME}.csv\")\n",
    "# Check whether the specified file exists or not\n",
    "isExist = os.path.isfile(path)\n",
    "if not isExist:\n",
    "    sys.exit(\"The file/directory doesn't exist\")\n",
    "\n",
    "# Read DataFrame from path\n",
    "df = pd.read_csv(path, sep=';')"
   ]
  },
  {
   "cell_type": "code",
   "execution_count": 4,
   "id": "1c99cd9b",
   "metadata": {},
   "outputs": [],
   "source": [
    "# Drop the columns which have only NA values\n",
    "df.dropna(axis=1, how=\"all\", inplace=True)\n",
    "df = df.drop('DealCode', axis=1)\n",
    "# Remove duplicated rows\n",
    "df = df.drop_duplicates(keep='first')\n",
    "# # Date Standardized \n",
    "date_cols = [\"ActiveDate\", \"EndDate\", \"DateSold\"]\n",
    "for col in date_cols:\n",
    "    df[col] = pd.to_datetime(df[col]).dt.strftime('%Y-%m-%d')"
   ]
  },
  {
   "cell_type": "code",
   "execution_count": 5,
   "id": "1d5a85c4",
   "metadata": {},
   "outputs": [],
   "source": [
    "# Convert object to float and replace to delimiter\n",
    "df['SalePrice'] = df['SalePrice'].str.replace(\",\",\".\").astype(float)"
   ]
  },
  {
   "cell_type": "code",
   "execution_count": 6,
   "id": "f024255a",
   "metadata": {},
   "outputs": [],
   "source": [
    "# Add default values for missing data\n",
    "df.fillna({\n",
    "    \"ActiveDate\": \"1970-01-01\",\n",
    "    \"EndDate\": \"1970-01-01\",\n",
    "    \"MSSubClass\": \"0.0\",\n",
    "    \"LotFrontage\": \"0.0\",\n",
    "    \"Alley\": \"‘’\",\n",
    "    \"MasVnrType\": \"0.0\",\n",
    "    \"MasVnrArea\": \"0.0\",\n",
    "    \"BsmtQual\": \"‘’\",\n",
    "    \"BsmtCond\": \"‘’\",\n",
    "    \"BsmtExposure\": \"‘’\",\n",
    "    \"BsmtQual\": \"‘’\",\n",
    "    \"BsmtFinType1\": \"‘’\",\n",
    "    \"BsmtFinType2\": \"‘’\",\n",
    "    \"Electrical\": \"‘’\",\n",
    "    \"BsmtFullBath\": \"0.0\",\n",
    "    \"HalfBath\": \"0.0\",\n",
    "    \"FireplaceQu\": \"‘’\",\n",
    "    \"GarageType\": \"‘’\",\n",
    "    \"GarageYrBlt\": \"0.0\",\n",
    "    \"GarageFinish\": \"‘’\",\n",
    "    \"GarageQual\": \"‘’\",\n",
    "    \"GarageCond\": \"‘’\",\n",
    "    \"PoolQC\": \"‘’\",\n",
    "    \"Fence\": \"‘’\",\n",
    "    \"MiscFeature\": \"0\"    \n",
    "}, inplace=True)"
   ]
  },
  {
   "cell_type": "code",
   "execution_count": 7,
   "id": "d00a5cd8",
   "metadata": {},
   "outputs": [],
   "source": [
    "# Convert string to lower case\n",
    "def convert_to_lowercase(val):\n",
    "    if type(val) == str:\n",
    "        return val.lower()\n",
    "    else:\n",
    "        return val\n",
    "    \n",
    "df = df.applymap(convert_to_lowercase)"
   ]
  },
  {
   "cell_type": "code",
   "execution_count": 8,
   "id": "beba764e",
   "metadata": {},
   "outputs": [],
   "source": [
    "# Get today date\n",
    "todays_date = date.today()\n",
    "# Set the path to save\n",
    "path = (f\"BASE/{todays_date.year}/{todays_date.month}/{todays_date.day}\")\n",
    "# Check whether the specified path exists or not\n",
    "isExist = os.path.exists(path)\n",
    "if not isExist:\n",
    "   # Create a new directory because it does not exist\n",
    "   os.makedirs(path)\n",
    "\n",
    "# Save merged DataFrame to CSV with ; separator without index column\n",
    "df.to_csv(f\"{path}/{OUTPUT_NAME}.csv\", sep=';', index=False, na_rep='NULL')"
   ]
  }
 ],
 "metadata": {
  "kernelspec": {
   "display_name": "Python 3 (ipykernel)",
   "language": "python",
   "name": "python3"
  },
  "language_info": {
   "codemirror_mode": {
    "name": "ipython",
    "version": 3
   },
   "file_extension": ".py",
   "mimetype": "text/x-python",
   "name": "python",
   "nbconvert_exporter": "python",
   "pygments_lexer": "ipython3",
   "version": "3.9.13"
  }
 },
 "nbformat": 4,
 "nbformat_minor": 5
}
